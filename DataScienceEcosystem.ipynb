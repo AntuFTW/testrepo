{
 "cells": [
  {
   "cell_type": "markdown",
   "id": "8db51f95-4979-4d8f-bbda-7eeb87a6abac",
   "metadata": {
    "tags": []
   },
   "source": [
    "# Data Science Tools and Ecosystem"
   ]
  },
  {
   "cell_type": "markdown",
   "id": "a35d4043-fef0-4a82-b95c-3a6ce33cf317",
   "metadata": {},
   "source": [
    "In this notebook, Data Science Tools and Ecosystem are summarized"
   ]
  },
  {
   "cell_type": "markdown",
   "id": "b6ab13d1-a804-400c-b7b4-4bb8d78c6384",
   "metadata": {},
   "source": [
    "**Objectives**\n",
    "- List popular languages for Data Science\n",
    "- List different tools for Data Science\n",
    "- List software used in industry\n",
    "- Use and understand fundementals of Git and GitHub"
   ]
  },
  {
   "cell_type": "markdown",
   "id": "ee66417c-f1b9-4d55-81b1-40324ae623b1",
   "metadata": {},
   "source": [
    "## Author\n",
    "Antariksh"
   ]
  },
  {
   "cell_type": "markdown",
   "id": "e38c07fd-888a-41a0-876d-257ca992e33d",
   "metadata": {},
   "source": [
    "Some of the popular languages that Data Scientists use are:\n",
    "1. Python\n",
    "2. R\n",
    "3. SQL"
   ]
  },
  {
   "cell_type": "markdown",
   "id": "95853a0a-303a-4f2d-8bc8-bd99921d1cba",
   "metadata": {},
   "source": [
    "Some of the commonly used libraries used by Data Scientists include:\n",
    "1. Numpy\n",
    "2. Pandas\n",
    "3. Matplotlib"
   ]
  },
  {
   "cell_type": "markdown",
   "id": "81a03806-8dd6-4ec4-8822-aa4cab9fb54c",
   "metadata": {},
   "source": [
    "| Data Science Tools |\n",
    "| --- |\n",
    "| VS Code |\n",
    "| Jupyter Hub |\n",
    "| Rstudio |"
   ]
  },
  {
   "cell_type": "markdown",
   "id": "72f38075-ade8-4003-b902-156f87d47bfb",
   "metadata": {
    "tags": []
   },
   "source": [
    "### Below are a few examples of evaluating arithmetic expressions in Python"
   ]
  },
  {
   "cell_type": "code",
   "execution_count": 5,
   "id": "e3dbef51-a0d5-4ec0-ad25-71aa3885b0ff",
   "metadata": {
    "tags": []
   },
   "outputs": [
    {
     "data": {
      "text/plain": [
       "17"
      ]
     },
     "execution_count": 5,
     "metadata": {},
     "output_type": "execute_result"
    }
   ],
   "source": [
    "# This is a simple arithmetic expression to multiply then add integers\n",
    "(3 * 4) + 5"
   ]
  },
  {
   "cell_type": "code",
   "execution_count": 8,
   "id": "1aa13431-7563-46a7-ac2f-fe34eb7e8924",
   "metadata": {
    "tags": []
   },
   "outputs": [
    {
     "name": "stdout",
     "output_type": "stream",
     "text": [
      "3.3333333333333335\n"
     ]
    }
   ],
   "source": [
    "# This will convert 200 minutes to hours by dividing by 60\n",
    "hours = 200 / 60\n",
    "print (hours)"
   ]
  },
  {
   "cell_type": "code",
   "execution_count": null,
   "id": "6d4537c0-6a6c-4073-8922-2ead08ad0cc8",
   "metadata": {},
   "outputs": [],
   "source": []
  }
 ],
 "metadata": {
  "kernelspec": {
   "display_name": "Python 3 (ipykernel)",
   "language": "python",
   "name": "python3"
  },
  "language_info": {
   "codemirror_mode": {
    "name": "ipython",
    "version": 3
   },
   "file_extension": ".py",
   "mimetype": "text/x-python",
   "name": "python",
   "nbconvert_exporter": "python",
   "pygments_lexer": "ipython3",
   "version": "3.11.5"
  }
 },
 "nbformat": 4,
 "nbformat_minor": 5
}
